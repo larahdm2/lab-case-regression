{
 "cells": [
  {
   "cell_type": "code",
   "execution_count": 10,
   "id": "9a8ceafc",
   "metadata": {},
   "outputs": [],
   "source": [
    "import pandas as pd\n",
    "import numpy as np\n",
    "from sklearn.tree import DecisionTreeRegressor\n",
    "from sklearn.model_selection import cross_val_score\n",
    "from sklearn.model_selection import train_test_split\n",
    "from sklearn.tree import DecisionTreeRegressor\n",
    "from sklearn.linear_model import LinearRegression\n",
    "from sklearn.linear_model import LogisticRegression\n",
    "from sklearn.neighbors import KNeighborsRegressor\n",
    "from sklearn.preprocessing import StandardScaler\n",
    "from sklearn.preprocessing import MinMaxScaler\n",
    "from sklearn.preprocessing import OneHotEncoder\n",
    "from sklearn.ensemble import RandomForestClassifier\n",
    "from sklearn.metrics import confusion_matrix\n",
    "from sklearn.model_selection import GridSearchCV\n",
    "from sklearn.decomposition import PCA\n",
    "import warnings\n",
    "import seaborn as sns\n",
    "import matplotlib.pyplot as plt\n",
    "from sklearn import neighbors"
   ]
  },
  {
   "cell_type": "code",
   "execution_count": 2,
   "id": "d41675bf",
   "metadata": {},
   "outputs": [],
   "source": [
    "pd.set_option(\"display.max_columns\", None)"
   ]
  },
  {
   "cell_type": "code",
   "execution_count": 3,
   "id": "b0a0cca5",
   "metadata": {},
   "outputs": [],
   "source": [
    "pd.set_option(\"display.max_rows\", None)"
   ]
  },
  {
   "cell_type": "markdown",
   "id": "839e357d",
   "metadata": {},
   "source": [
    "# 1. Task 1\n",
    "\n",
    "### 1.1 Subset those that have made a donation (Target B = 1)."
   ]
  },
  {
   "cell_type": "code",
   "execution_count": 4,
   "id": "eb9ca6f2",
   "metadata": {},
   "outputs": [],
   "source": [
    "numerical = pd.read_csv('numerical.csv')\n",
    "categorical = pd.read_csv('categorical.csv')\n",
    "target = pd.read_csv('target.csv')"
   ]
  },
  {
   "cell_type": "code",
   "execution_count": 5,
   "id": "cf0b8782",
   "metadata": {},
   "outputs": [],
   "source": [
    "data = pd.concat([numerical, categorical, target], axis = 1)"
   ]
  },
  {
   "cell_type": "code",
   "execution_count": 6,
   "id": "e702d25b",
   "metadata": {},
   "outputs": [],
   "source": [
    "data = data[data['TARGET_B']==1].reset_index(drop = True)"
   ]
  },
  {
   "cell_type": "code",
   "execution_count": null,
   "id": "357ecbf9",
   "metadata": {},
   "outputs": [],
   "source": [
    "# data"
   ]
  },
  {
   "cell_type": "markdown",
   "id": "656e6497",
   "metadata": {},
   "source": [
    "### 1.2 Create a regression model to predict how much they will donate (Target D)."
   ]
  },
  {
   "cell_type": "code",
   "execution_count": 7,
   "id": "b5a7beb1",
   "metadata": {},
   "outputs": [],
   "source": [
    "X = data.drop(['TARGET_B', 'TARGET_D'], axis = 1)\n",
    "y = data['TARGET_D']\n",
    "\n",
    "X_train, X_test, y_train, y_test = train_test_split(X, y, test_size=0.2, random_state=0)\n",
    "\n",
    "X_train_cat = X_train.select_dtypes(include='object').reset_index(drop=True)\n",
    "X_train_num = X_train.select_dtypes(include='number').reset_index(drop=True)\n",
    "y_train = y_train.reset_index(drop=True)\n",
    "\n",
    "X_test_cat = X_test.select_dtypes(include='object').reset_index(drop=True)\n",
    "X_test_num = X_test.select_dtypes(include='number').reset_index(drop=True)\n",
    "y_test = y_test.reset_index(drop=True)"
   ]
  },
  {
   "cell_type": "code",
   "execution_count": 8,
   "id": "4a4fa170",
   "metadata": {},
   "outputs": [],
   "source": [
    "encoder = OneHotEncoder(drop='first').fit(X_train_cat)\n",
    "\n",
    "encoded_categorical_train = encoder.transform(X_train_cat).toarray()\n",
    "encoded_categorical_train = pd.DataFrame(encoded_categorical_train, columns=encoder.get_feature_names_out())\n",
    "\n",
    "encoded_categorical_test = encoder.transform(X_test_cat).toarray()\n",
    "encoded_categorical_test = pd.DataFrame(encoded_categorical_test, columns=encoder.get_feature_names_out())"
   ]
  },
  {
   "cell_type": "code",
   "execution_count": null,
   "id": "1b5a21f7",
   "metadata": {},
   "outputs": [],
   "source": [
    "# scaler = StandardScaler().fit(X_train_num)\n",
    "\n",
    "# scaled_numerical_train = scaler.transform(X_train_num)\n",
    "# scaled_numerical_train = pd.DataFrame(scaled_numerical_train, columns = X_train_num.columns)\n",
    "\n",
    "# scaled_numerical_test = scaler.transform(X_test_num)\n",
    "# scaled_numerical_test = pd.DataFrame(scaled_numerical_test, columns = X_train_num.columns)"
   ]
  },
  {
   "cell_type": "code",
   "execution_count": 11,
   "id": "e60e16b0",
   "metadata": {},
   "outputs": [],
   "source": [
    "scaler = MinMaxScaler().fit(X_train_num)\n",
    "\n",
    "scaled_numerical_train = scaler.transform(X_train_num)\n",
    "scaled_numerical_train = pd.DataFrame(scaled_numerical_train, columns = X_train_num.columns)\n",
    "\n",
    "scaled_numerical_test = scaler.transform(X_test_num)\n",
    "scaled_numerical_test = pd.DataFrame(scaled_numerical_test, columns = X_train_num.columns)"
   ]
  },
  {
   "cell_type": "code",
   "execution_count": 12,
   "id": "4a83fee0",
   "metadata": {},
   "outputs": [],
   "source": [
    "X_train = pd.concat([encoded_categorical_train, scaled_numerical_train], axis = 1).reset_index(drop = True)\n",
    "X_test = pd.concat([encoded_categorical_test, scaled_numerical_test], axis = 1).reset_index(drop = True)"
   ]
  },
  {
   "cell_type": "code",
   "execution_count": null,
   "id": "ec2ac909",
   "metadata": {},
   "outputs": [],
   "source": [
    "# lm = LinearRegression()\n",
    "# lm.fit(X_train, y_train)"
   ]
  },
  {
   "cell_type": "code",
   "execution_count": null,
   "id": "fc032428",
   "metadata": {},
   "outputs": [],
   "source": [
    "# lm.score(X_test, y_test)"
   ]
  },
  {
   "cell_type": "markdown",
   "id": "cecab98b",
   "metadata": {},
   "source": [
    "> The score is very low. I´ll select features with pca."
   ]
  },
  {
   "cell_type": "code",
   "execution_count": null,
   "id": "65b608a5",
   "metadata": {},
   "outputs": [],
   "source": [
    "# pca = PCA(0.90)\n",
    "# pca.fit(X_train)"
   ]
  },
  {
   "cell_type": "code",
   "execution_count": null,
   "id": "7db479f0",
   "metadata": {},
   "outputs": [],
   "source": [
    "# X_train_pca = pca.transform(X_train)\n",
    "# X_test_pca = pca.transform(X_test)\n",
    "\n",
    "# X_train_pca = pd.DataFrame(X_train_pca).reset_index(drop=True)\n",
    "# X_test_pca = pd.DataFrame(X_test_pca).reset_index(drop=True)"
   ]
  },
  {
   "cell_type": "code",
   "execution_count": null,
   "id": "942ec430",
   "metadata": {},
   "outputs": [],
   "source": [
    "# lm2 = LinearRegression()\n",
    "# lm2.fit(X_train_pca, y_train)"
   ]
  },
  {
   "cell_type": "code",
   "execution_count": null,
   "id": "ffe9bbd9",
   "metadata": {},
   "outputs": [],
   "source": [
    "# lm2.score(X_test_pca, y_test)"
   ]
  },
  {
   "cell_type": "markdown",
   "id": "84732d7c",
   "metadata": {},
   "source": [
    "> The score is still too low. I´ll select features based on correlation with the target and drop multicolinearity."
   ]
  },
  {
   "cell_type": "code",
   "execution_count": null,
   "id": "fa92b297",
   "metadata": {},
   "outputs": [],
   "source": [
    "some_corr = []\n",
    "\n",
    "for col in X_train.columns:\n",
    "    if X_train[col].corr(y_train) >= 0.2 or X_train[col].corr(y_train) <= -0.2:\n",
    "        some_corr.append(col)"
   ]
  },
  {
   "cell_type": "code",
   "execution_count": null,
   "id": "b45bfa3a",
   "metadata": {},
   "outputs": [],
   "source": [
    "# some_corr"
   ]
  },
  {
   "cell_type": "code",
   "execution_count": null,
   "id": "b539ab5c",
   "metadata": {},
   "outputs": [],
   "source": [
    "X_train_corr = X_train[['RFA_2A_E',\n",
    " 'RFA_2A_G',\n",
    " 'RAMNTALL',\n",
    " 'NGIFTALL',\n",
    " 'CARDGIFT',\n",
    " 'MINRAMNT',\n",
    " 'MAXRAMNT',\n",
    " 'LASTGIFT',\n",
    " 'AVGGIFT',\n",
    " 'RFA_2F']]"
   ]
  },
  {
   "cell_type": "code",
   "execution_count": null,
   "id": "5acc9fe0",
   "metadata": {},
   "outputs": [],
   "source": [
    "# corr = X_train_corr.corr()"
   ]
  },
  {
   "cell_type": "code",
   "execution_count": null,
   "id": "49a952ad",
   "metadata": {},
   "outputs": [],
   "source": [
    "# fig, ax = plt.subplots()\n",
    "# sns.heatmap(corr, cmap=\"crest\", xticklabels=True, yticklabels=True, ax=ax)"
   ]
  },
  {
   "cell_type": "code",
   "execution_count": null,
   "id": "7511a3e5",
   "metadata": {},
   "outputs": [],
   "source": [
    "X_train_corr = X_train_corr.drop(['NGIFTALL', 'MINRAMNT', 'LASTGIFT'], axis=1)"
   ]
  },
  {
   "cell_type": "code",
   "execution_count": null,
   "id": "ef3db66c",
   "metadata": {},
   "outputs": [],
   "source": [
    "X_test_corr = X_test[X_train_corr.columns]"
   ]
  },
  {
   "cell_type": "code",
   "execution_count": null,
   "id": "90ebc176",
   "metadata": {},
   "outputs": [],
   "source": [
    "# lm = LinearRegression()\n",
    "# lm.fit(X_train_corr, y_train)"
   ]
  },
  {
   "cell_type": "code",
   "execution_count": null,
   "id": "9384e649",
   "metadata": {},
   "outputs": [],
   "source": [
    "# lm.score(X_test_corr, y_test)"
   ]
  },
  {
   "cell_type": "markdown",
   "id": "ddd182e6",
   "metadata": {},
   "source": [
    "> I´ll try with nearest neighbours"
   ]
  },
  {
   "cell_type": "code",
   "execution_count": null,
   "id": "bc55e47c",
   "metadata": {},
   "outputs": [],
   "source": [
    "scores = []\n",
    "\n",
    "for k in range(2,30):\n",
    "    model = KNeighborsRegressor(n_neighbors = k)\n",
    "    model.fit(X_train_corr, y_train)\n",
    "    scores.append(model.score(X_test_corr, y_test))"
   ]
  },
  {
   "cell_type": "code",
   "execution_count": null,
   "id": "dcd37e99",
   "metadata": {},
   "outputs": [],
   "source": [
    "plt.figure(figsize = (10,6))\n",
    "plt.plot(range(2,30), scores)\n",
    "plt.gca().invert_yaxis()\n",
    "plt.show()"
   ]
  },
  {
   "cell_type": "code",
   "execution_count": null,
   "id": "71795dd5",
   "metadata": {},
   "outputs": [],
   "source": [
    "model = KNeighborsRegressor(n_neighbors = 24)\n",
    "model.fit(X_train_corr, y_train)"
   ]
  },
  {
   "cell_type": "code",
   "execution_count": null,
   "id": "2ddcfaba",
   "metadata": {},
   "outputs": [],
   "source": [
    "model.score(X_test_corr, y_test)"
   ]
  },
  {
   "cell_type": "markdown",
   "id": "5523451c",
   "metadata": {},
   "source": [
    "> Maybe what happens is that the features have too low variance."
   ]
  },
  {
   "cell_type": "code",
   "execution_count": 61,
   "id": "0bd906b3",
   "metadata": {},
   "outputs": [],
   "source": [
    "# X_train.describe()"
   ]
  },
  {
   "cell_type": "code",
   "execution_count": 60,
   "id": "6f41d3f3",
   "metadata": {},
   "outputs": [],
   "source": [
    "# X_train.head()"
   ]
  },
  {
   "cell_type": "code",
   "execution_count": 20,
   "id": "de382bd2",
   "metadata": {},
   "outputs": [
    {
     "data": {
      "text/plain": [
       "0.0766595472327967"
      ]
     },
     "execution_count": 20,
     "metadata": {},
     "output_type": "execute_result"
    }
   ],
   "source": [
    "X_train['STATE_FL'].var()"
   ]
  },
  {
   "cell_type": "code",
   "execution_count": 66,
   "id": "aea0b634",
   "metadata": {},
   "outputs": [],
   "source": [
    "col_var = []\n",
    "\n",
    "for col in X_train.columns:\n",
    "    if X_train[col].var() >= 0.1:\n",
    "        col_var.append(col)"
   ]
  },
  {
   "cell_type": "code",
   "execution_count": 67,
   "id": "9f739a5c",
   "metadata": {},
   "outputs": [
    {
     "data": {
      "text/plain": [
       "['STATE_other',\n",
       " 'HOMEOWNR_U',\n",
       " 'GENDER_M',\n",
       " 'RFA_2A_E',\n",
       " 'RFA_2A_F',\n",
       " 'RFA_2A_G',\n",
       " 'GEOCODE2_B',\n",
       " 'GEOCODE2_C',\n",
       " 'GEOCODE2_D',\n",
       " 'DOMAIN_A_R',\n",
       " 'DOMAIN_A_S',\n",
       " 'DOMAIN_A_T',\n",
       " 'DOMAIN_A_U',\n",
       " 'POP90C1',\n",
       " 'POP90C3',\n",
       " 'HVP2',\n",
       " 'HVP3',\n",
       " 'HVP4',\n",
       " 'RP1',\n",
       " 'RP2',\n",
       " 'RP3',\n",
       " 'LFC9',\n",
       " 'HC6',\n",
       " 'HC7',\n",
       " 'HC11',\n",
       " 'HC19',\n",
       " 'HPHONE_D',\n",
       " 'RFA_2F',\n",
       " 'MINRDATE_MM',\n",
       " 'MAXRDATE_MM',\n",
       " 'LASTDATE_MM',\n",
       " 'FIRSTDATE_MM']"
      ]
     },
     "execution_count": 67,
     "metadata": {},
     "output_type": "execute_result"
    }
   ],
   "source": [
    "col_var"
   ]
  },
  {
   "cell_type": "code",
   "execution_count": 68,
   "id": "46c953b4",
   "metadata": {},
   "outputs": [],
   "source": [
    "X_train_var = X_train[['STATE_other',\n",
    " 'HOMEOWNR_U',\n",
    " 'GENDER_M',\n",
    " 'RFA_2A_E',\n",
    " 'RFA_2A_F',\n",
    " 'RFA_2A_G',\n",
    " 'GEOCODE2_B',\n",
    " 'GEOCODE2_C',\n",
    " 'GEOCODE2_D',\n",
    " 'DOMAIN_A_R',\n",
    " 'DOMAIN_A_S',\n",
    " 'DOMAIN_A_T',\n",
    " 'DOMAIN_A_U',\n",
    " 'POP90C1',\n",
    " 'POP90C3',\n",
    " 'HVP2',\n",
    " 'HVP3',\n",
    " 'HVP4',\n",
    " 'RP1',\n",
    " 'RP2',\n",
    " 'RP3',\n",
    " 'LFC9',\n",
    " 'HC6',\n",
    " 'HC7',\n",
    " 'HC11',\n",
    " 'HC19',\n",
    " 'HPHONE_D',\n",
    " 'RFA_2F',\n",
    " 'MINRDATE_MM',\n",
    " 'MAXRDATE_MM',\n",
    " 'LASTDATE_MM',\n",
    " 'FIRSTDATE_MM']]"
   ]
  },
  {
   "cell_type": "code",
   "execution_count": 69,
   "id": "14522a6f",
   "metadata": {},
   "outputs": [],
   "source": [
    "corr = X_train_var.corr()"
   ]
  },
  {
   "cell_type": "code",
   "execution_count": 70,
   "id": "6311dff6",
   "metadata": {},
   "outputs": [
    {
     "data": {
      "text/plain": [
       "<Axes: >"
      ]
     },
     "execution_count": 70,
     "metadata": {},
     "output_type": "execute_result"
    },
    {
     "data": {
      "image/png": "[encoded data removed]",
      "text/plain": [
       "<Figure size 640x480 with 2 Axes>"
      ]
     },
     "metadata": {},
     "output_type": "display_data"
    }
   ],
   "source": [
    "fig, ax = plt.subplots()\n",
    "sns.heatmap(corr, cmap=\"crest\", xticklabels=True, yticklabels=True, ax=ax)"
   ]
  },
  {
   "cell_type": "code",
   "execution_count": 71,
   "id": "d1a5fb91",
   "metadata": {},
   "outputs": [],
   "source": [
    "X_test_var = X_test_var.drop(['HVP3', 'RP2', 'HC7'], axis=1)"
   ]
  },
  {
   "cell_type": "code",
   "execution_count": 72,
   "id": "65de65ae",
   "metadata": {},
   "outputs": [],
   "source": [
    "X_test_var = X_test[X_train_var.columns]"
   ]
  },
  {
   "cell_type": "code",
   "execution_count": 79,
   "id": "1420ff64",
   "metadata": {},
   "outputs": [],
   "source": [
    "scores = []\n",
    "\n",
    "for k in range(2,50):\n",
    "    model = KNeighborsRegressor(n_neighbors = k)\n",
    "    model.fit(X_train_var, y_train)\n",
    "    scores.append(model.score(X_test_var, y_test))"
   ]
  },
  {
   "cell_type": "code",
   "execution_count": 80,
   "id": "fafdec70",
   "metadata": {},
   "outputs": [
    {
     "data": {
      "image/png": "[encoded data removed]",
      "text/plain": [
       "<Figure size 1000x600 with 1 Axes>"
      ]
     },
     "metadata": {},
     "output_type": "display_data"
    }
   ],
   "source": [
    "plt.figure(figsize = (10,6))\n",
    "plt.plot(range(2,50), scores)\n",
    "plt.gca().invert_yaxis()\n",
    "plt.show()"
   ]
  },
  {
   "cell_type": "code",
   "execution_count": 87,
   "id": "7ef182ab",
   "metadata": {},
   "outputs": [
    {
     "data": {
      "text/html": [
       "<style>#sk-container-id-8 {color: black;background-color: white;}#sk-container-id-8 pre{padding: 0;}#sk-container-id-8 div.sk-toggleable {background-color: white;}#sk-container-id-8 label.sk-toggleable__label {cursor: pointer;display: block;width: 100%;margin-bottom: 0;padding: 0.3em;box-sizing: border-box;text-align: center;}#sk-container-id-8 label.sk-toggleable__label-arrow:before {content: \"▸\";float: left;margin-right: 0.25em;color: #696969;}#sk-container-id-8 label.sk-toggleable__label-arrow:hover:before {color: black;}#sk-container-id-8 div.sk-estimator:hover label.sk-toggleable__label-arrow:before {color: black;}#sk-container-id-8 div.sk-toggleable__content {max-height: 0;max-width: 0;overflow: hidden;text-align: left;background-color: #f0f8ff;}#sk-container-id-8 div.sk-toggleable__content pre {margin: 0.2em;color: black;border-radius: 0.25em;background-color: #f0f8ff;}#sk-container-id-8 input.sk-toggleable__control:checked~div.sk-toggleable__content {max-height: 200px;max-width: 100%;overflow: auto;}#sk-container-id-8 input.sk-toggleable__control:checked~label.sk-toggleable__label-arrow:before {content: \"▾\";}#sk-container-id-8 div.sk-estimator input.sk-toggleable__control:checked~label.sk-toggleable__label {background-color: #d4ebff;}#sk-container-id-8 div.sk-label input.sk-toggleable__control:checked~label.sk-toggleable__label {background-color: #d4ebff;}#sk-container-id-8 input.sk-hidden--visually {border: 0;clip: rect(1px 1px 1px 1px);clip: rect(1px, 1px, 1px, 1px);height: 1px;margin: -1px;overflow: hidden;padding: 0;position: absolute;width: 1px;}#sk-container-id-8 div.sk-estimator {font-family: monospace;background-color: #f0f8ff;border: 1px dotted black;border-radius: 0.25em;box-sizing: border-box;margin-bottom: 0.5em;}#sk-container-id-8 div.sk-estimator:hover {background-color: #d4ebff;}#sk-container-id-8 div.sk-parallel-item::after {content: \"\";width: 100%;border-bottom: 1px solid gray;flex-grow: 1;}#sk-container-id-8 div.sk-label:hover label.sk-toggleable__label {background-color: #d4ebff;}#sk-container-id-8 div.sk-serial::before {content: \"\";position: absolute;border-left: 1px solid gray;box-sizing: border-box;top: 0;bottom: 0;left: 50%;z-index: 0;}#sk-container-id-8 div.sk-serial {display: flex;flex-direction: column;align-items: center;background-color: white;padding-right: 0.2em;padding-left: 0.2em;position: relative;}#sk-container-id-8 div.sk-item {position: relative;z-index: 1;}#sk-container-id-8 div.sk-parallel {display: flex;align-items: stretch;justify-content: center;background-color: white;position: relative;}#sk-container-id-8 div.sk-item::before, #sk-container-id-8 div.sk-parallel-item::before {content: \"\";position: absolute;border-left: 1px solid gray;box-sizing: border-box;top: 0;bottom: 0;left: 50%;z-index: -1;}#sk-container-id-8 div.sk-parallel-item {display: flex;flex-direction: column;z-index: 1;position: relative;background-color: white;}#sk-container-id-8 div.sk-parallel-item:first-child::after {align-self: flex-end;width: 50%;}#sk-container-id-8 div.sk-parallel-item:last-child::after {align-self: flex-start;width: 50%;}#sk-container-id-8 div.sk-parallel-item:only-child::after {width: 0;}#sk-container-id-8 div.sk-dashed-wrapped {border: 1px dashed gray;margin: 0 0.4em 0.5em 0.4em;box-sizing: border-box;padding-bottom: 0.4em;background-color: white;}#sk-container-id-8 div.sk-label label {font-family: monospace;font-weight: bold;display: inline-block;line-height: 1.2em;}#sk-container-id-8 div.sk-label-container {text-align: center;}#sk-container-id-8 div.sk-container {/* jupyter's `normalize.less` sets `[hidden] { display: none; }` but bootstrap.min.css set `[hidden] { display: none !important; }` so we also need the `!important` here to be able to override the default hidden behavior on the sphinx rendered scikit-learn.org. See: https://github.com/scikit-learn/scikit-learn/issues/21755 */display: inline-block !important;position: relative;}#sk-container-id-8 div.sk-text-repr-fallback {display: none;}</style><div id=\"sk-container-id-8\" class=\"sk-top-container\"><div class=\"sk-text-repr-fallback\"><pre>KNeighborsRegressor(n_neighbors=7)</pre><b>In a Jupyter environment, please rerun this cell to show the HTML representation or trust the notebook. <br />On GitHub, the HTML representation is unable to render, please try loading this page with nbviewer.org.</b></div><div class=\"sk-container\" hidden><div class=\"sk-item\"><div class=\"sk-estimator sk-toggleable\"><input class=\"sk-toggleable__control sk-hidden--visually\" id=\"sk-estimator-id-8\" type=\"checkbox\" checked><label for=\"sk-estimator-id-8\" class=\"sk-toggleable__label sk-toggleable__label-arrow\">KNeighborsRegressor</label><div class=\"sk-toggleable__content\"><pre>KNeighborsRegressor(n_neighbors=7)</pre></div></div></div></div></div>"
      ],
      "text/plain": [
       "KNeighborsRegressor(n_neighbors=7)"
      ]
     },
     "execution_count": 87,
     "metadata": {},
     "output_type": "execute_result"
    }
   ],
   "source": [
    "model = KNeighborsRegressor(n_neighbors = 7)\n",
    "model.fit(X_train_var, y_train)"
   ]
  },
  {
   "cell_type": "code",
   "execution_count": 88,
   "id": "313255f5",
   "metadata": {},
   "outputs": [
    {
     "data": {
      "text/plain": [
       "0.28956870893504905"
      ]
     },
     "execution_count": 88,
     "metadata": {},
     "output_type": "execute_result"
    }
   ],
   "source": [
    "model.score(X_test_var, y_test)"
   ]
  },
  {
   "cell_type": "markdown",
   "id": "8c986798",
   "metadata": {},
   "source": [
    "> This model is not valid."
   ]
  },
  {
   "cell_type": "code",
   "execution_count": null,
   "id": "747bf4c9",
   "metadata": {},
   "outputs": [],
   "source": []
  }
 ],
 "metadata": {
  "kernelspec": {
   "display_name": "Python 3 (ipykernel)",
   "language": "python",
   "name": "python3"
  },
  "language_info": {
   "codemirror_mode": {
    "name": "ipython",
    "version": 3
   },
   "file_extension": ".py",
   "mimetype": "text/x-python",
   "name": "python",
   "nbconvert_exporter": "python",
   "pygments_lexer": "ipython3",
   "version": "3.10.9"
  }
 },
 "nbformat": 4,
 "nbformat_minor": 5
}
